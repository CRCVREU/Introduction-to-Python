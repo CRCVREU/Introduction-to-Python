{
 "cells": [
  {
   "cell_type": "markdown",
   "metadata": {},
   "source": [
    "<font size=\"5\">**Data Structures**</font>"
   ]
  },
  {
   "cell_type": "markdown",
   "metadata": {},
   "source": [
    "<font size=\"4\">**Lists**</font>"
   ]
  },
  {
   "cell_type": "code",
   "execution_count": 1,
   "metadata": {},
   "outputs": [
    {
     "name": "stdout",
     "output_type": "stream",
     "text": [
      "numbers length: 3 \n",
      "numbers type: <class 'list'>\n"
     ]
    }
   ],
   "source": [
    "letters = ['a', 'b', 'c'] \n",
    "numbers = [2, 3, 5]\n",
    "mixed = [4, 5.1, \"seconds\"]\n",
    "\n",
    "#\\n creates a new line in the above print statement\n",
    "print('numbers length:', len(numbers), '\\nnumbers type:', type(numbers))"
   ]
  },
  {
   "cell_type": "markdown",
   "metadata": {},
   "source": [
    "List are mutable, which means we can update values"
   ]
  },
  {
   "cell_type": "code",
   "execution_count": 2,
   "metadata": {},
   "outputs": [
    {
     "name": "stdout",
     "output_type": "stream",
     "text": [
      "numbers before mutations: [2, 3, 5]\n",
      "numbers after mutations: [2, 3, 6]\n"
     ]
    }
   ],
   "source": [
    "print('numbers before mutations:', numbers)\n",
    "numbers[2] = 6\n",
    "print('numbers after mutations:', numbers)"
   ]
  },
  {
   "cell_type": "markdown",
   "metadata": {},
   "source": [
    "<br/>"
   ]
  },
  {
   "cell_type": "markdown",
   "metadata": {},
   "source": [
    "<font size=\"2\">**Append & Extend**</font>"
   ]
  },
  {
   "cell_type": "code",
   "execution_count": 3,
   "metadata": {},
   "outputs": [
    {
     "name": "stdout",
     "output_type": "stream",
     "text": [
      "[2, 3, 6, 7]\n"
     ]
    }
   ],
   "source": [
    "numbers.append(7)\n",
    "print(numbers)"
   ]
  },
  {
   "cell_type": "code",
   "execution_count": 4,
   "metadata": {},
   "outputs": [
    {
     "name": "stdout",
     "output_type": "stream",
     "text": [
      "[2, 3, 6, 7, 'z']\n"
     ]
    }
   ],
   "source": [
    "numbers.append('z')\n",
    "print(numbers)"
   ]
  },
  {
   "cell_type": "code",
   "execution_count": 5,
   "metadata": {},
   "outputs": [
    {
     "name": "stdout",
     "output_type": "stream",
     "text": [
      "[2, 3, 6, 7, 'z', ['a', 'b', 'c']]\n"
     ]
    }
   ],
   "source": [
    "numbers.append(letters)\n",
    "print(numbers)"
   ]
  },
  {
   "cell_type": "markdown",
   "metadata": {},
   "source": [
    "Notice how \"extend\" appends each individual element of the list \"mixed\", not the whole list."
   ]
  },
  {
   "cell_type": "code",
   "execution_count": 6,
   "metadata": {},
   "outputs": [
    {
     "name": "stdout",
     "output_type": "stream",
     "text": [
      "[2, 3, 6, 7, 'z', ['a', 'b', 'c'], 4, 5.1, 'seconds']\n"
     ]
    }
   ],
   "source": [
    "numbers.extend(mixed)\n",
    "print(numbers)"
   ]
  },
  {
   "cell_type": "markdown",
   "metadata": {},
   "source": [
    "<br/>"
   ]
  },
  {
   "cell_type": "markdown",
   "metadata": {},
   "source": [
    "**Indexing**"
   ]
  },
  {
   "cell_type": "code",
   "execution_count": 7,
   "metadata": {},
   "outputs": [
    {
     "name": "stdout",
     "output_type": "stream",
     "text": [
      "numbers =  [2, 3, 6, 7, 'z', ['a', 'b', 'c'], 4, 5.1, 'seconds']\n"
     ]
    }
   ],
   "source": [
    "print('numbers = ', numbers)"
   ]
  },
  {
   "cell_type": "code",
   "execution_count": 8,
   "metadata": {},
   "outputs": [
    {
     "name": "stdout",
     "output_type": "stream",
     "text": [
      "2 , z\n"
     ]
    }
   ],
   "source": [
    "print(numbers[0], ',', numbers[4])"
   ]
  },
  {
   "cell_type": "code",
   "execution_count": 9,
   "metadata": {},
   "outputs": [
    {
     "name": "stdout",
     "output_type": "stream",
     "text": [
      "['a', 'b', 'c']\n"
     ]
    }
   ],
   "source": [
    "print(numbers[5])"
   ]
  },
  {
   "cell_type": "code",
   "execution_count": 10,
   "metadata": {},
   "outputs": [
    {
     "name": "stdout",
     "output_type": "stream",
     "text": [
      "b\n"
     ]
    }
   ],
   "source": [
    "print(numbers[5][1])"
   ]
  },
  {
   "cell_type": "code",
   "execution_count": 11,
   "metadata": {},
   "outputs": [
    {
     "name": "stdout",
     "output_type": "stream",
     "text": [
      "seconds\n"
     ]
    }
   ],
   "source": [
    "# Last element of the list numbers\n",
    "print(numbers[-1])"
   ]
  },
  {
   "cell_type": "markdown",
   "metadata": {},
   "source": [
    "<br/>"
   ]
  },
  {
   "cell_type": "markdown",
   "metadata": {},
   "source": [
    "**Slicing**"
   ]
  },
  {
   "cell_type": "code",
   "execution_count": 12,
   "metadata": {},
   "outputs": [
    {
     "name": "stdout",
     "output_type": "stream",
     "text": [
      "numbers =  [2, 3, 6, 7, 'z', ['a', 'b', 'c'], 4, 5.1, 'seconds']\n"
     ]
    }
   ],
   "source": [
    "print('numbers = ', numbers)"
   ]
  },
  {
   "cell_type": "code",
   "execution_count": 13,
   "metadata": {},
   "outputs": [
    {
     "name": "stdout",
     "output_type": "stream",
     "text": [
      "[7, 'z', ['a', 'b', 'c'], 4, 5.1, 'seconds']\n",
      "[2, 3, 6]\n"
     ]
    }
   ],
   "source": [
    "# Return 1st element to the last element, i.e. inclusive\n",
    "print(numbers[3:])\n",
    "# Return 1st element to element before 3rd element, i.e. exclusive\n",
    "print(numbers[:3])"
   ]
  },
  {
   "cell_type": "code",
   "execution_count": 14,
   "metadata": {},
   "outputs": [
    {
     "name": "stdout",
     "output_type": "stream",
     "text": [
      "[3, 6]\n"
     ]
    }
   ],
   "source": [
    "print(numbers[1:3])"
   ]
  },
  {
   "cell_type": "code",
   "execution_count": 15,
   "metadata": {},
   "outputs": [
    {
     "name": "stdout",
     "output_type": "stream",
     "text": [
      "['seconds'] , seconds\n"
     ]
    }
   ],
   "source": [
    "# The first returns a list with one element\n",
    "# The second only returns the element it self\n",
    "print(numbers[-1:], ',', numbers[-1])"
   ]
  },
  {
   "cell_type": "code",
   "execution_count": 16,
   "metadata": {},
   "outputs": [
    {
     "name": "stdout",
     "output_type": "stream",
     "text": [
      "[6, 7, 'z', ['a', 'b', 'c'], 4, 5.1]\n",
      "[['a', 'b', 'c'], 4, 5.1]\n"
     ]
    }
   ],
   "source": [
    "print(numbers[2:-1])\n",
    "print(numbers[-4:-1])"
   ]
  },
  {
   "cell_type": "markdown",
   "metadata": {},
   "source": [
    "Slicing doesn't return an error if you use an index larger than the list"
   ]
  },
  {
   "cell_type": "code",
   "execution_count": 17,
   "metadata": {},
   "outputs": [
    {
     "name": "stdout",
     "output_type": "stream",
     "text": [
      "[7, 'z', ['a', 'b', 'c'], 4, 5.1, 'seconds']\n"
     ]
    }
   ],
   "source": [
    "print(numbers[3:10000])"
   ]
  },
  {
   "cell_type": "markdown",
   "metadata": {},
   "source": [
    "<br/>"
   ]
  },
  {
   "cell_type": "markdown",
   "metadata": {},
   "source": [
    "<font size=\"4\">**List Comprehensions**</font>"
   ]
  },
  {
   "attachments": {
    "list_comp.png": {
     "image/png": "[encoded data removed]"
    }
   },
   "cell_type": "markdown",
   "metadata": {},
   "source": [
    "![list_comp.png](attachment:list_comp.png)"
   ]
  },
  {
   "cell_type": "code",
   "execution_count": 18,
   "metadata": {},
   "outputs": [
    {
     "name": "stdout",
     "output_type": "stream",
     "text": [
      "ints_list = [0, 1, 2, 3, 4, 5, 6, 7, 8, 9]\n"
     ]
    }
   ],
   "source": [
    "ints_list = [0, 1, 2, 3, 4, 5, 6, 7, 8, 9]\n",
    "print('ints_list =', ints_list)"
   ]
  },
  {
   "cell_type": "markdown",
   "metadata": {},
   "source": [
    "Say we wish to create a new list comprised of the squares of the numbers in ints_list:"
   ]
  },
  {
   "cell_type": "markdown",
   "metadata": {},
   "source": [
    "We could use a for *loop*:"
   ]
  },
  {
   "cell_type": "code",
   "execution_count": 19,
   "metadata": {},
   "outputs": [
    {
     "name": "stdout",
     "output_type": "stream",
     "text": [
      "sq_ints_loop = [0, 1, 4, 9, 16, 25, 36, 49, 64, 81]\n"
     ]
    }
   ],
   "source": [
    "sq_ints_loop = []\n",
    "for n in ints_list:\n",
    "    sq_ints_loop.append(n**2)\n",
    "print('sq_ints_loop =',sq_ints_loop)"
   ]
  },
  {
   "cell_type": "markdown",
   "metadata": {},
   "source": [
    "But a *list comprehension* is much more compact:"
   ]
  },
  {
   "cell_type": "code",
   "execution_count": 20,
   "metadata": {},
   "outputs": [
    {
     "name": "stdout",
     "output_type": "stream",
     "text": [
      "sq_ints_comp = [0, 1, 4, 9, 16, 25, 36, 49, 64, 81]\n"
     ]
    }
   ],
   "source": [
    "sq_ints_comp = [n**2 for n in ints_list]\n",
    "print('sq_ints_comp =',sq_ints_comp)"
   ]
  },
  {
   "cell_type": "code",
   "execution_count": 21,
   "metadata": {},
   "outputs": [
    {
     "name": "stdout",
     "output_type": "stream",
     "text": [
      "ints_floats_list = [0, 1.0, 2, 3.7, 4.2, 5, 6, 7.1, 8.62, 9.001]\n"
     ]
    }
   ],
   "source": [
    "ints_floats_list = [0, 1.0, 2, 3.7, 4.2, 5, 6, 7.1, 8.62, 9.001]\n",
    "print('ints_floats_list =', ints_floats_list)"
   ]
  },
  {
   "cell_type": "markdown",
   "metadata": {},
   "source": [
    "Now say we wish to create a new list with only the floats from ints_floats_list:"
   ]
  },
  {
   "cell_type": "code",
   "execution_count": 22,
   "metadata": {},
   "outputs": [
    {
     "name": "stdout",
     "output_type": "stream",
     "text": [
      "[1.0, 3.7, 4.2, 7.1, 8.62, 9.001]\n"
     ]
    }
   ],
   "source": [
    "floats_only_list = [n for n in ints_floats_list if type(n) == float]\n",
    "print(floats_only_list)"
   ]
  },
  {
   "cell_type": "markdown",
   "metadata": {},
   "source": [
    "<br/><br/>"
   ]
  },
  {
   "cell_type": "markdown",
   "metadata": {},
   "source": [
    "<font size=\"4\">**Tuples**</font>"
   ]
  },
  {
   "cell_type": "markdown",
   "metadata": {},
   "source": [
    "In most ways, tuples operate the same as lists."
   ]
  },
  {
   "cell_type": "code",
   "execution_count": 27,
   "metadata": {},
   "outputs": [
    {
     "name": "stdout",
     "output_type": "stream",
     "text": [
      "numbers length: 10 \n",
      "numbers type: <class 'tuple'>\n"
     ]
    }
   ],
   "source": [
    "mixed_tuple = (0, 1.4, 2, 'a', 4, 5.0, 6, 'f', 8.1, 9)\n",
    "\n",
    "print('numbers length:', len(mixed_tuple), '\\nnumbers type:', type(mixed_tuple))"
   ]
  },
  {
   "cell_type": "markdown",
   "metadata": {},
   "source": [
    "**Indexing**"
   ]
  },
  {
   "cell_type": "code",
   "execution_count": 28,
   "metadata": {},
   "outputs": [
    {
     "name": "stdout",
     "output_type": "stream",
     "text": [
      "a , 6\n"
     ]
    }
   ],
   "source": [
    "print(mixed_tuple[3], ',', mixed_tuple[6])"
   ]
  },
  {
   "cell_type": "markdown",
   "metadata": {},
   "source": [
    "**Slicing**"
   ]
  },
  {
   "cell_type": "code",
   "execution_count": 29,
   "metadata": {},
   "outputs": [
    {
     "name": "stdout",
     "output_type": "stream",
     "text": [
      "('a', 4, 5.0, 6, 'f', 8.1, 9) , (2, 'a', 4, 5.0, 6, 'f', 8.1)\n"
     ]
    }
   ],
   "source": [
    "print(mixed_tuple[3:], ',', mixed_tuple[2:-1])"
   ]
  },
  {
   "cell_type": "markdown",
   "metadata": {},
   "source": [
    "However, tuples are *immutable*, which means their values cannot be updated!"
   ]
  },
  {
   "cell_type": "code",
   "execution_count": 30,
   "metadata": {},
   "outputs": [
    {
     "ename": "TypeError",
     "evalue": "'tuple' object does not support item assignment",
     "output_type": "error",
     "traceback": [
      "\u001b[0;31m---------------------------------------------------------------------------\u001b[0m",
      "\u001b[0;31mTypeError\u001b[0m                                 Traceback (most recent call last)",
      "\u001b[0;32m<ipython-input-30-5be6bf25ac5a>\u001b[0m in \u001b[0;36m<module>\u001b[0;34m()\u001b[0m\n\u001b[0;32m----> 1\u001b[0;31m \u001b[0mmixed_tuple\u001b[0m\u001b[0;34m[\u001b[0m\u001b[0;36m3\u001b[0m\u001b[0;34m]\u001b[0m \u001b[0;34m=\u001b[0m \u001b[0;36m100\u001b[0m\u001b[0;34m\u001b[0m\u001b[0m\n\u001b[0m",
      "\u001b[0;31mTypeError\u001b[0m: 'tuple' object does not support item assignment"
     ]
    }
   ],
   "source": [
    "mixed_tuple[3] = 100"
   ]
  },
  {
   "cell_type": "markdown",
   "metadata": {},
   "source": [
    "<br/><br/>"
   ]
  },
  {
   "cell_type": "markdown",
   "metadata": {},
   "source": [
    "<font size=\"4\">**Dictionaries**</font>"
   ]
  },
  {
   "cell_type": "markdown",
   "metadata": {},
   "source": [
    "Dictionaries are unordered structures and are comprised of \"key: value\" pairs. The keys can be elements such as ints, strings, etc.<br/> The values can assume those types as well, but can also be lists, tuples, or even dictionaries themselves."
   ]
  },
  {
   "cell_type": "code",
   "execution_count": 49,
   "metadata": {},
   "outputs": [
    {
     "name": "stdout",
     "output_type": "stream",
     "text": [
      "basic_dict length: 4 \n",
      "basic_dict type: <class 'dict'>\n",
      "basic_dict keys: dict_keys(['a', 'd', 8, 'c'])\n",
      "basic_dict values: dict_values([2, 7, 'hello world', 3])\n",
      "basic_dict pairs: dict_items([('a', 2), ('d', 7), (8, 'hello world'), ('c', 3)])\n"
     ]
    }
   ],
   "source": [
    "basic_dict = {'a': 2, 'd': 7, 8: 'hello world', 'c': 3}\n",
    "\n",
    "print('basic_dict length:', len(basic_dict), '\\nbasic_dict type:', type(basic_dict))\n",
    "print('basic_dict keys:', basic_dict.keys())\n",
    "print('basic_dict values:', basic_dict.values())\n",
    "print('basic_dict pairs:', basic_dict.items())"
   ]
  },
  {
   "cell_type": "code",
   "execution_count": 50,
   "metadata": {},
   "outputs": [],
   "source": [
    "adv_dict = {'list_key': [1, 2, 3], 'tup_key': (4, 5, 6), 'dict_key': basic_dict}"
   ]
  },
  {
   "cell_type": "markdown",
   "metadata": {},
   "source": [
    "<br/>"
   ]
  },
  {
   "cell_type": "markdown",
   "metadata": {},
   "source": [
    "**\"Indexing\"**"
   ]
  },
  {
   "cell_type": "code",
   "execution_count": 51,
   "metadata": {},
   "outputs": [
    {
     "name": "stdout",
     "output_type": "stream",
     "text": [
      "basic_dict = {'a': 2, 'd': 7, 8: 'hello world', 'c': 3}\n",
      "adv_dict = {'list_key': [1, 2, 3], 'tup_key': (4, 5, 6), 'dict_key': {'a': 2, 'd': 7, 8: 'hello world', 'c': 3}}\n"
     ]
    }
   ],
   "source": [
    "print('basic_dict =', basic_dict)\n",
    "print('adv_dict =', adv_dict)"
   ]
  },
  {
   "cell_type": "code",
   "execution_count": 52,
   "metadata": {},
   "outputs": [
    {
     "name": "stdout",
     "output_type": "stream",
     "text": [
      "2 , hello world\n"
     ]
    }
   ],
   "source": [
    "print(basic_dict['a'], ',', basic_dict[8])"
   ]
  },
  {
   "cell_type": "code",
   "execution_count": 53,
   "metadata": {},
   "outputs": [
    {
     "name": "stdout",
     "output_type": "stream",
     "text": [
      "[1, 2, 3] , {'a': 2, 'd': 7, 8: 'hello world', 'c': 3}\n"
     ]
    }
   ],
   "source": [
    "print(adv_dict['list_key'], ',', adv_dict['dict_key'])"
   ]
  },
  {
   "cell_type": "code",
   "execution_count": 54,
   "metadata": {},
   "outputs": [
    {
     "name": "stdout",
     "output_type": "stream",
     "text": [
      "7\n"
     ]
    }
   ],
   "source": [
    "print(adv_dict['dict_key']['d'])"
   ]
  },
  {
   "cell_type": "markdown",
   "metadata": {},
   "source": [
    "Say we try to return a value for a key that *does not exist*:"
   ]
  },
  {
   "cell_type": "code",
   "execution_count": 55,
   "metadata": {},
   "outputs": [
    {
     "ename": "KeyError",
     "evalue": "'x'",
     "output_type": "error",
     "traceback": [
      "\u001b[0;31m---------------------------------------------------------------------------\u001b[0m",
      "\u001b[0;31mKeyError\u001b[0m                                  Traceback (most recent call last)",
      "\u001b[0;32m<ipython-input-55-047eb1d8ccd3>\u001b[0m in \u001b[0;36m<module>\u001b[0;34m()\u001b[0m\n\u001b[0;32m----> 1\u001b[0;31m \u001b[0mprint\u001b[0m\u001b[0;34m(\u001b[0m\u001b[0mbasic_dict\u001b[0m\u001b[0;34m[\u001b[0m\u001b[0;34m'x'\u001b[0m\u001b[0;34m]\u001b[0m\u001b[0;34m)\u001b[0m\u001b[0;34m\u001b[0m\u001b[0m\n\u001b[0m",
      "\u001b[0;31mKeyError\u001b[0m: 'x'"
     ]
    }
   ],
   "source": [
    "print(basic_dict['x'])"
   ]
  },
  {
   "cell_type": "markdown",
   "metadata": {},
   "source": [
    "Instead, we can circumvent the error by using:"
   ]
  },
  {
   "cell_type": "code",
   "execution_count": 56,
   "metadata": {},
   "outputs": [
    {
     "name": "stdout",
     "output_type": "stream",
     "text": [
      "None\n"
     ]
    }
   ],
   "source": [
    "print(basic_dict.get('x'))"
   ]
  },
  {
   "cell_type": "markdown",
   "metadata": {},
   "source": [
    "Like lists, dictionaries are *mutable*:"
   ]
  },
  {
   "cell_type": "code",
   "execution_count": 57,
   "metadata": {},
   "outputs": [
    {
     "name": "stdout",
     "output_type": "stream",
     "text": [
      "adv_dict[\"dict_key\"] before mutation: {'a': 2, 'd': 7, 8: 'hello world', 'c': 3}\n",
      "adv_dict[\"dict_key\"] after mutation: 11\n"
     ]
    }
   ],
   "source": [
    "print('adv_dict[\"dict_key\"] before mutation:', adv_dict['dict_key'])\n",
    "adv_dict['dict_key'] = 11\n",
    "print('adv_dict[\"dict_key\"] after mutation:', adv_dict['dict_key'])"
   ]
  },
  {
   "cell_type": "markdown",
   "metadata": {},
   "source": [
    "<br/><br/>"
   ]
  },
  {
   "cell_type": "markdown",
   "metadata": {},
   "source": [
    "<font size=\"4\">**Iterating Over Data Structures**</font>"
   ]
  },
  {
   "cell_type": "markdown",
   "metadata": {},
   "source": [
    "**Lists**"
   ]
  },
  {
   "cell_type": "code",
   "execution_count": 58,
   "metadata": {},
   "outputs": [],
   "source": [
    "my_list = [i for i in range(5)]\n",
    "# print('my_list =', my_list)"
   ]
  },
  {
   "cell_type": "code",
   "execution_count": 59,
   "metadata": {},
   "outputs": [
    {
     "name": "stdout",
     "output_type": "stream",
     "text": [
      "Do something for the 0 time\n",
      "Do something for the 1 time\n",
      "Do something for the 2 time\n",
      "Do something for the 3 time\n",
      "Do something for the 4 time\n"
     ]
    }
   ],
   "source": [
    "for item in my_list:\n",
    "    # the % is for something called String Formatting\n",
    "    print('Do something for the %d time' % item)"
   ]
  },
  {
   "cell_type": "markdown",
   "metadata": {},
   "source": [
    "**Tuples**"
   ]
  },
  {
   "cell_type": "code",
   "execution_count": 69,
   "metadata": {},
   "outputs": [],
   "source": [
    "my_tuple = ('easy', 'as', 1, 2, 3, 'a')"
   ]
  },
  {
   "cell_type": "code",
   "execution_count": 70,
   "metadata": {},
   "outputs": [
    {
     "name": "stdout",
     "output_type": "stream",
     "text": [
      "easy\n",
      "as\n",
      "1\n",
      "2\n",
      "3\n",
      "a\n"
     ]
    }
   ],
   "source": [
    "for item in my_tuple:\n",
    "    print(item)"
   ]
  },
  {
   "cell_type": "code",
   "execution_count": 72,
   "metadata": {},
   "outputs": [
    {
     "name": "stdout",
     "output_type": "stream",
     "text": [
      "0 easy\n",
      "1 as\n",
      "2 1\n",
      "3 2\n",
      "4 3\n",
      "5 a\n"
     ]
    }
   ],
   "source": [
    "for index, item in enumerate(my_tuple):\n",
    "    print(index, item)"
   ]
  },
  {
   "cell_type": "markdown",
   "metadata": {},
   "source": [
    "**Dictionaries**"
   ]
  },
  {
   "cell_type": "code",
   "execution_count": 73,
   "metadata": {},
   "outputs": [],
   "source": [
    "my_dict = {'a': 1, 'b': 2, 'c': 3}"
   ]
  },
  {
   "cell_type": "code",
   "execution_count": 74,
   "metadata": {},
   "outputs": [
    {
     "name": "stdout",
     "output_type": "stream",
     "text": [
      "Pair: ('a', 1)\n",
      "Pair: ('b', 2)\n",
      "Pair: ('c', 3)\n"
     ]
    }
   ],
   "source": [
    "# This is equivalent to \"for key in my_dict.keys()\"\n",
    "for key in my_dict:                \n",
    "    value = my_dict[key]\n",
    "    print('Pair:', (key, value))"
   ]
  },
  {
   "cell_type": "code",
   "execution_count": 75,
   "metadata": {},
   "outputs": [
    {
     "name": "stdout",
     "output_type": "stream",
     "text": [
      "Pair: ('a', 1)\n",
      "Pair: ('b', 2)\n",
      "Pair: ('c', 3)\n"
     ]
    }
   ],
   "source": [
    "for key, value in my_dict.items():\n",
    "    print('Pair:', (key, value))"
   ]
  },
  {
   "cell_type": "markdown",
   "metadata": {},
   "source": [
    "<br/><br/>"
   ]
  },
  {
   "cell_type": "markdown",
   "metadata": {},
   "source": [
    "<font size=\"5\">**Functions**</font>"
   ]
  },
  {
   "attachments": {
    "function.png": {
     "image/png": "[encoded data removed]"
    }
   },
   "cell_type": "markdown",
   "metadata": {},
   "source": [
    "![function.png](attachment:function.png)"
   ]
  },
  {
   "cell_type": "markdown",
   "metadata": {},
   "source": [
    "Let's define a function that will return True or False if a number is even or odd, respectively"
   ]
  },
  {
   "cell_type": "code",
   "execution_count": 76,
   "metadata": {},
   "outputs": [],
   "source": [
    "def is_even(number):\n",
    "    return (number % 2 == 0)"
   ]
  },
  {
   "cell_type": "code",
   "execution_count": 77,
   "metadata": {},
   "outputs": [
    {
     "name": "stdout",
     "output_type": "stream",
     "text": [
      "59 is odd.\n"
     ]
    }
   ],
   "source": [
    "my_number = 59\n",
    "if is_even(my_number):\n",
    "    print(str(my_number) + ' is even.')\n",
    "else:\n",
    "    print(str(my_number) + ' is odd.')"
   ]
  },
  {
   "cell_type": "markdown",
   "metadata": {},
   "source": [
    "Now let's use our function to construct a list with a list comprehension:"
   ]
  },
  {
   "cell_type": "code",
   "execution_count": 78,
   "metadata": {},
   "outputs": [
    {
     "name": "stdout",
     "output_type": "stream",
     "text": [
      "[False, True, False, False, True, True, True, False]\n"
     ]
    }
   ],
   "source": [
    "my_numbers = [5, 18, 7, 9, 2, 4, 0, 1]\n",
    "is_evens_list = [is_even(num) for num in my_numbers]\n",
    "print(is_evens_list)"
   ]
  },
  {
   "cell_type": "markdown",
   "metadata": {},
   "source": [
    "<br/><br/>"
   ]
  },
  {
   "cell_type": "markdown",
   "metadata": {},
   "source": [
    "<font size=\"5\">**Classes**</font>"
   ]
  },
  {
   "cell_type": "markdown",
   "metadata": {},
   "source": [
    "* __init __ gets called when you instantiate an object \n",
    "* Class variables/functions are referenced within a class using self.var_name\n",
    "* Class variables/functions are referenced outside of a class using class_name.var_name"
   ]
  },
  {
   "cell_type": "code",
   "execution_count": 79,
   "metadata": {},
   "outputs": [
    {
     "name": "stdout",
     "output_type": "stream",
     "text": [
      "Hello my name is John\n"
     ]
    }
   ],
   "source": [
    "class Person:\n",
    "  def __init__(self, name, age):\n",
    "    self.name = name\n",
    "    self.age = age\n",
    "\n",
    "  def myfunc(self):\n",
    "    print(\"Hello my name is \" + self.name)\n",
    "\n",
    "p1 = Person(\"John\", 36)\n",
    "p1.myfunc()"
   ]
  }
 ],
 "metadata": {
  "kernelspec": {
   "display_name": "Python 3",
   "language": "python",
   "name": "python3"
  },
  "language_info": {
   "codemirror_mode": {
    "name": "ipython",
    "version": 3
   },
   "file_extension": ".py",
   "mimetype": "text/x-python",
   "name": "python",
   "nbconvert_exporter": "python",
   "pygments_lexer": "ipython3",
   "version": "3.6.5"
  }
 },
 "nbformat": 4,
 "nbformat_minor": 2
}
